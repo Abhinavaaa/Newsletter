{
  "nbformat": 4,
  "nbformat_minor": 0,
  "metadata": {
    "colab": {
      "provenance": [],
      "include_colab_link": true
    },
    "kernelspec": {
      "name": "python3",
      "display_name": "Python 3"
    },
    "language_info": {
      "name": "python"
    }
  },
  "cells": [
    {
      "cell_type": "markdown",
      "metadata": {
        "id": "view-in-github",
        "colab_type": "text"
      },
      "source": [
        "<a href=\"https://colab.research.google.com/github/Abhinavaaa/Newsletter/blob/main/llama_ccp_mistral.ipynb\" target=\"_parent\"><img src=\"https://colab.research.google.com/assets/colab-badge.svg\" alt=\"Open In Colab\"/></a>"
      ]
    },
    {
      "cell_type": "code",
      "execution_count": null,
      "metadata": {
        "id": "9xCfeOBSrNIw"
      },
      "outputs": [],
      "source": [
        "!pip install llama-cpp-python\n"
      ]
    },
    {
      "cell_type": "code",
      "source": [
        "!pip install llama-cpp-python[server]\n"
      ],
      "metadata": {
        "id": "CPEkofv-6G9W"
      },
      "execution_count": null,
      "outputs": []
    },
    {
      "cell_type": "code",
      "source": [
        "!wget https://huggingface.co/TheBloke/Mistral-7B-Instruct-v0.1-GGUF/resolve/main/mistral-7b-instruct-v0.1.Q5_0.gguf"
      ],
      "metadata": {
        "id": "hDVgBZG0tcUO"
      },
      "execution_count": null,
      "outputs": []
    },
    {
      "cell_type": "code",
      "source": [
        "!wget https://huggingface.co/TheBloke/Mistral-7B-Instruct-v0.1-GGUF/resolve/main/mistral-7b-instruct-v0.1.Q5_K_M.gguf"
      ],
      "metadata": {
        "id": "bfGl-SyL-JjU"
      },
      "execution_count": null,
      "outputs": []
    },
    {
      "cell_type": "code",
      "source": [
        "from llama_cpp import Llama\n",
        "llm = Llama(model_path=\"mistral-7b-instruct-v0.1.Q5_K_M.gguf\")\n",
        "output = llm(\"Q: can you write a small story of 20 lines? A: \", max_tokens=2016, stop=[\"Q:\", \"\\n\"], echo=True)\n",
        "print(output)"
      ],
      "metadata": {
        "id": "4EhGx0NIv1L9"
      },
      "execution_count": null,
      "outputs": []
    },
    {
      "cell_type": "code",
      "source": [
        "!wget https://bin.equinox.io/c/4VmDzA7iaHb/ngrok-stable-linux-amd64.zip\n",
        "!unzip -o ngrok-stable-linux-amd64.zip"
      ],
      "metadata": {
        "id": "TJYRwxXK6lTz"
      },
      "execution_count": null,
      "outputs": []
    },
    {
      "cell_type": "code",
      "source": [
        "!./ngrok authtoken 2WwL1SNCbYtofueTni4FFUNPNCa_3eLAEzzcPYZLNpPoWCsMY"
      ],
      "metadata": {
        "id": "yR4ORXb06sWs"
      },
      "execution_count": null,
      "outputs": []
    },
    {
      "cell_type": "code",
      "source": [
        "!python3 -m llama_cpp.server --model mistral-7b-instruct-v0.1.Q5_K_M.gguf --host 127.0.0.1 > server.log 2>&1 &"
      ],
      "metadata": {
        "id": "M3TQi4z96v8p"
      },
      "execution_count": null,
      "outputs": []
    },
    {
      "cell_type": "code",
      "source": [
        "from IPython import get_ipython\n",
        "get_ipython().system_raw('./ngrok http 8000 &')"
      ],
      "metadata": {
        "id": "1D2OTm2667lK"
      },
      "execution_count": null,
      "outputs": []
    },
    {
      "cell_type": "code",
      "source": [
        "!curl -s http://localhost:4040/api/tunnels | python3 -c \"import sys, json; print(json.load(sys.stdin)['tunnels'][0]['public_url'])\""
      ],
      "metadata": {
        "id": "sZkZ45Wb7Tcb"
      },
      "execution_count": null,
      "outputs": []
    },
    {
      "cell_type": "code",
      "source": [
        "!pkill uvicorn"
      ],
      "metadata": {
        "id": "hbsfoObY8Cr3"
      },
      "execution_count": null,
      "outputs": []
    },
    {
      "cell_type": "code",
      "source": [
        "!ps -eaf"
      ],
      "metadata": {
        "id": "q39INNBuqaKs"
      },
      "execution_count": null,
      "outputs": []
    },
    {
      "cell_type": "code",
      "source": [
        "!kill 44783 job IDs"
      ],
      "metadata": {
        "id": "-CkWWkc0qowz"
      },
      "execution_count": null,
      "outputs": []
    }
  ]
}